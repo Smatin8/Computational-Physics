{
 "cells": [
  {
   "cell_type": "markdown",
   "id": "f77a1dd9-8f07-4f3a-8ebd-697c4ed31ace",
   "metadata": {},
   "source": [
    "<font size=\"10\">**Homework 11**<font>"
   ]
  },
  {
   "cell_type": "markdown",
   "id": "fb860b34-bdd7-4866-aa36-62f3416e34d2",
   "metadata": {},
   "source": [
    "Using Python in a Jupyter notebook, simulate the time evolution of a Gaussian wave packet in a harmonic oscillator potential.  Find a starting condition that gives a result that looks similar to what is expected classically."
   ]
  },
  {
   "cell_type": "markdown",
   "id": "b788764b-3ee0-4087-b3e2-1b97bb566bbe",
   "metadata": {},
   "source": [
    "**Time Evolution**\n",
    "$\\psi(x,t)=\\sum_n A_n \\psi_n(x)\\exp(-i \\omega_n t)$"
   ]
  },
  {
   "cell_type": "markdown",
   "id": "f92f998b-252d-4968-930a-6191b099195d",
   "metadata": {},
   "source": [
    "**Wave Function** $\\psi_n(x)=\\sqrt{\\frac{2}{L}}\\sin(\\frac{n \\pi x}{L})$"
   ]
  },
  {
   "cell_type": "markdown",
   "id": "1a79d3fc-94ed-49c6-bb0c-d49446481980",
   "metadata": {},
   "source": [
    "**Gaussian Shape**\n",
    "\n",
    "$y(x)=\\sum_n A_n \\psi_n(x)$\n",
    "\n",
    "$A_n=\\int_0^L y(x)\\psi_n(x)\\mathrm{d}x$"
   ]
  },
  {
   "cell_type": "markdown",
   "id": "3987e1c9-0f54-47cc-a26b-69053b289a5c",
   "metadata": {},
   "source": [
    "**Probability Distribution** $\\psi(x,t)^*\\psi(x,t)$"
   ]
  },
  {
   "cell_type": "code",
   "execution_count": 41,
   "id": "e12869cb-8b8a-4672-9511-ef9eb274caae",
   "metadata": {},
   "outputs": [
    {
     "data": {
      "image/png": "[encoded data removed]",
      "text/plain": [
       "<Figure size 432x288 with 1 Axes>"
      ]
     },
     "metadata": {
      "needs_background": "light"
     },
     "output_type": "display_data"
    }
   ],
   "source": [
    "import numpy as np\n",
    "import scipy.integrate as integrate\n",
    "from matplotlib import pyplot\n",
    "import matplotlib.animation\n",
    "\n",
    "# Set Initial Condition to match Classical Behaviour\n",
    "L = 100; hbar = 1; m = 1; num = 50\n",
    "\n",
    "#coefficients for complex wave equation of Quantum Oscillator\n",
    "C = np.zeros(num,dtype = np.complex_);\n",
    "pie = np.pi\n",
    "\n",
    "# Make X Vector\n",
    "x = np.linspace(0,L,150);\n",
    "\n",
    "# Make Y Vector\n",
    "psi2 = np.zeros(150);\n",
    "\n",
    "# Wave Function of Quantum Harmonic Oscillator (With Complex Parts)\n",
    "def psi0(x):\n",
    "    if(x<=L and x>=0):\n",
    "        return 0.4*np.exp(-((x-5)**2)/20)*np.exp(complex(0,2*x));\n",
    "    else:\n",
    "        return 0;\n",
    "    \n",
    "# Parts of Wave Equation not dependant on time\n",
    "def psi_n(x,n):\n",
    "    if(x>=0 and x<=L):\n",
    "        return np.sqrt(2/L)*np.sin(n*pie*x/L);\n",
    "    else:\n",
    "        return 0;\n",
    "\n",
    "#calculate co-efficients using fourier's trick\n",
    "for i in range(num):\n",
    "    n = i+1;\n",
    "    I_Real = lambda x: psi_n(x,n)*np.real(psi0(x));\n",
    "    I_Imag = lambda x: psi_n(x,n)*np.imag(psi0(x));\n",
    "    C[i] = complex(integrate.quad(I_Real,0,L)[0],integrate.quad(I_Imag,0,L)[0]);\n",
    "    \n",
    "# Wave Function  \n",
    "def psi(x,t):\n",
    "    val = 0\n",
    "    for i in range(num):\n",
    "        n = i+1;\n",
    "        val+=C[i]*psi_n(x,n)*np.exp(complex(0,-(n**2)*(pie**2)*hbar*t/(2*m*(L**2))))\n",
    "    return val;\n",
    "\n",
    "# Create Figure for Animation\n",
    "fig1 = pyplot.figure()\n",
    "\n",
    "# Probability\n",
    "def plot_probability(frame_number):\n",
    "    t = frame_number/150;\n",
    "    for i in range(100):\n",
    "        psi2[i] = abs(psi(x[i],t))**2; #probability density\n",
    "    p = pyplot.fill_between(x, psi2,color='purple');\n",
    "    return p,\n",
    "        \n",
    "ani = matplotlib.animation.FuncAnimation(fig, plot_probability,frames=10, interval=10, blit=True)\n"
   ]
  },
  {
   "cell_type": "markdown",
   "id": "3c8126b7-24b8-4267-8a83-9c83ecf90b75",
   "metadata": {},
   "source": [
    "**For Some Reason the Animation is not working.**"
   ]
  },
  {
   "cell_type": "code",
   "execution_count": null,
   "id": "69627763-0ea1-447e-b35f-a0fb4278a2eb",
   "metadata": {},
   "outputs": [],
   "source": []
  },
  {
   "cell_type": "code",
   "execution_count": null,
   "id": "2c12210e-9425-4d7d-aa96-6242011ae425",
   "metadata": {},
   "outputs": [],
   "source": []
  },
  {
   "cell_type": "code",
   "execution_count": null,
   "id": "17a208ab-dbbb-4bcc-b8e8-61f36d2ac16a",
   "metadata": {},
   "outputs": [],
   "source": []
  },
  {
   "cell_type": "code",
   "execution_count": null,
   "id": "caccf926-e092-4fa6-97f4-6e2274908d31",
   "metadata": {},
   "outputs": [],
   "source": []
  },
  {
   "cell_type": "code",
   "execution_count": null,
   "id": "b6c22a62-1339-46c5-b3be-85e56fe87ed4",
   "metadata": {},
   "outputs": [],
   "source": []
  },
  {
   "cell_type": "code",
   "execution_count": null,
   "id": "85098100-bcec-4eff-8310-ee2d5f847295",
   "metadata": {},
   "outputs": [],
   "source": []
  },
  {
   "cell_type": "code",
   "execution_count": null,
   "id": "8932c5e8-4569-4278-947f-9d761881ee2c",
   "metadata": {},
   "outputs": [],
   "source": []
  }
 ],
 "metadata": {
  "kernelspec": {
   "display_name": "Python 3 (ipykernel)",
   "language": "python",
   "name": "python3"
  },
  "language_info": {
   "codemirror_mode": {
    "name": "ipython",
    "version": 3
   },
   "file_extension": ".py",
   "mimetype": "text/x-python",
   "name": "python",
   "nbconvert_exporter": "python",
   "pygments_lexer": "ipython3",
   "version": "3.9.7"
  }
 },
 "nbformat": 4,
 "nbformat_minor": 5
}
