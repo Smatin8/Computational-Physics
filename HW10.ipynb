{
 "cells": [
  {
   "cell_type": "markdown",
   "id": "9b7dbdb7-59e9-455a-8270-2bd267949978",
   "metadata": {},
   "source": [
    "<font size=\"10\">**Homework 10**<font>"
   ]
  },
  {
   "cell_type": "markdown",
   "id": "4a174ac5-f565-4c30-8a9b-28289258e6c1",
   "metadata": {},
   "source": [
    "Create a Jupyter notebook that uses Python to plot the\n",
    "ten lowest energy eigenstates of the quantum harmonic\n",
    "oscillator. Make liberal use of Markdown blocks to\n",
    "document your code."
   ]
  },
  {
   "cell_type": "markdown",
   "id": "5777895c-cd3c-42d5-ab10-27a04967682a",
   "metadata": {},
   "source": [
    "I found a website\n",
    "(http://physics.gmu.edu/~dmaria/590%20Web%20Page/public_html/qm_topics/harmonic/) and\n",
    "(https://en.wikipedia.org/wiki/Quantum_harmonic_oscillator), where they used a simplified Hermite\n",
    "Polynomial equation to find values of X for different eigenstates.\n",
    "\n",
    "$\\xi = \\sqrt{\\frac{m\\omega}\n",
    "{\\hbar}}x$"
   ]
  },
  {
   "cell_type": "markdown",
   "id": "62187d78-2202-4c31-872b-7265ccb40e0f",
   "metadata": {},
   "source": [
    "importing Packages, setting variables and making a function for the equation."
   ]
  },
  {
   "cell_type": "code",
   "execution_count": 9,
   "id": "390249a2-3786-4db6-9000-9501bedd1160",
   "metadata": {},
   "outputs": [],
   "source": [
    "import matplotlib\n",
    "import matplotlib.pyplot as plt\n",
    "import numpy\n",
    "import numpy.polynomial.hermite as harmonic\n",
    "# Variables\n",
    "x = numpy.arange(-12,12,0.01)\n",
    "# mass\n",
    "m=1\n",
    "# Omega\n",
    "w=1\n",
    "# Hbar\n",
    "hbar=1\n",
    "# Equation for Quantum Harmonic Oscillator\n",
    "def harmonic(x, n):\n",
    "    xi = numpy.sqrt(m*w/hbar)*x\n",
    "    herm_coeffs = numpy.zeros(n+1)\n",
    "    herm_coeffs[n] = 1\n",
    "    return Herm.hermval(xi, herm_coeffs)\n"
   ]
  },
  {
   "cell_type": "markdown",
   "id": "f3b5bc3b-ae29-4f88-b244-0de0fc075d3d",
   "metadata": {},
   "source": [
    "**First Eigenstate**"
   ]
  },
  {
   "cell_type": "code",
   "execution_count": 10,
   "id": "54ba4d9f-3390-4985-acd1-99c55ffe0245",
   "metadata": {},
   "outputs": [
    {
     "ename": "NameError",
     "evalue": "name 'Herm' is not defined",
     "output_type": "error",
     "traceback": [
      "\u001b[1;31m---------------------------------------------------------------------------\u001b[0m",
      "\u001b[1;31mNameError\u001b[0m                                 Traceback (most recent call last)",
      "\u001b[1;32m~\\AppData\\Local\\Temp/ipykernel_7184/1899184859.py\u001b[0m in \u001b[0;36m<module>\u001b[1;34m\u001b[0m\n\u001b[0;32m      1\u001b[0m \u001b[0mplt\u001b[0m\u001b[1;33m.\u001b[0m\u001b[0mfigure\u001b[0m\u001b[1;33m(\u001b[0m\u001b[0mfigsize\u001b[0m \u001b[1;33m=\u001b[0m \u001b[1;33m(\u001b[0m\u001b[1;36m20\u001b[0m\u001b[1;33m,\u001b[0m\u001b[1;36m10\u001b[0m\u001b[1;33m)\u001b[0m\u001b[1;33m)\u001b[0m\u001b[1;33m\u001b[0m\u001b[1;33m\u001b[0m\u001b[0m\n\u001b[1;32m----> 2\u001b[1;33m \u001b[0mplt\u001b[0m\u001b[1;33m.\u001b[0m\u001b[0mplot\u001b[0m\u001b[1;33m(\u001b[0m\u001b[0mx\u001b[0m\u001b[1;33m,\u001b[0m \u001b[0mharmonic\u001b[0m\u001b[1;33m(\u001b[0m\u001b[0mx\u001b[0m\u001b[1;33m,\u001b[0m\u001b[1;36m0\u001b[0m\u001b[1;33m)\u001b[0m\u001b[1;33m)\u001b[0m\u001b[1;33m\u001b[0m\u001b[1;33m\u001b[0m\u001b[0m\n\u001b[0m\u001b[0;32m      3\u001b[0m \u001b[0mplt\u001b[0m\u001b[1;33m.\u001b[0m\u001b[0mxlabel\u001b[0m\u001b[1;33m(\u001b[0m\u001b[1;34m\"x\"\u001b[0m\u001b[1;33m)\u001b[0m\u001b[1;33m\u001b[0m\u001b[1;33m\u001b[0m\u001b[0m\n\u001b[0;32m      4\u001b[0m \u001b[0mplt\u001b[0m\u001b[1;33m.\u001b[0m\u001b[0mylabel\u001b[0m\u001b[1;33m(\u001b[0m\u001b[1;34mr\"$\\xi$\"\u001b[0m\u001b[1;33m)\u001b[0m\u001b[1;33m\u001b[0m\u001b[1;33m\u001b[0m\u001b[0m\n\u001b[0;32m      5\u001b[0m \u001b[0mplt\u001b[0m\u001b[1;33m.\u001b[0m\u001b[0mtitle\u001b[0m\u001b[1;33m(\u001b[0m\u001b[1;34mr\"First Eigenstate of the Quantum Harmonic Oscillator\"\u001b[0m\u001b[1;33m)\u001b[0m\u001b[1;33m\u001b[0m\u001b[1;33m\u001b[0m\u001b[0m\n",
      "\u001b[1;32m~\\AppData\\Local\\Temp/ipykernel_7184/3134333001.py\u001b[0m in \u001b[0;36mharmonic\u001b[1;34m(x, n)\u001b[0m\n\u001b[0;32m     16\u001b[0m     \u001b[0mherm_coeffs\u001b[0m \u001b[1;33m=\u001b[0m \u001b[0mnumpy\u001b[0m\u001b[1;33m.\u001b[0m\u001b[0mzeros\u001b[0m\u001b[1;33m(\u001b[0m\u001b[0mn\u001b[0m\u001b[1;33m+\u001b[0m\u001b[1;36m1\u001b[0m\u001b[1;33m)\u001b[0m\u001b[1;33m\u001b[0m\u001b[1;33m\u001b[0m\u001b[0m\n\u001b[0;32m     17\u001b[0m     \u001b[0mherm_coeffs\u001b[0m\u001b[1;33m[\u001b[0m\u001b[0mn\u001b[0m\u001b[1;33m]\u001b[0m \u001b[1;33m=\u001b[0m \u001b[1;36m1\u001b[0m\u001b[1;33m\u001b[0m\u001b[1;33m\u001b[0m\u001b[0m\n\u001b[1;32m---> 18\u001b[1;33m     \u001b[1;32mreturn\u001b[0m \u001b[0mHerm\u001b[0m\u001b[1;33m.\u001b[0m\u001b[0mhermval\u001b[0m\u001b[1;33m(\u001b[0m\u001b[0mxi\u001b[0m\u001b[1;33m,\u001b[0m \u001b[0mherm_coeffs\u001b[0m\u001b[1;33m)\u001b[0m\u001b[1;33m\u001b[0m\u001b[1;33m\u001b[0m\u001b[0m\n\u001b[0m",
      "\u001b[1;31mNameError\u001b[0m: name 'Herm' is not defined"
     ]
    },
    {
     "data": {
      "text/plain": [
       "<Figure size 1440x720 with 0 Axes>"
      ]
     },
     "metadata": {},
     "output_type": "display_data"
    }
   ],
   "source": [
    "plt.figure(figsize = (20,10))\n",
    "plt.plot(x, harmonic(x,0))\n",
    "plt.xlabel(\"x\")\n",
    "plt.ylabel(r\"$\\xi$\")\n",
    "plt.title(r\"First Eigenstate of the Quantum Harmonic Oscillator\")\n",
    "plt.show()"
   ]
  },
  {
   "cell_type": "code",
   "execution_count": null,
   "id": "de1dd5e5-ccf2-4749-a2dd-90dc1d7cac03",
   "metadata": {},
   "outputs": [],
   "source": []
  },
  {
   "cell_type": "code",
   "execution_count": null,
   "id": "194c9a2a-5708-4581-9a45-def7cb992213",
   "metadata": {},
   "outputs": [],
   "source": []
  },
  {
   "cell_type": "code",
   "execution_count": null,
   "id": "dd3d2028-2467-4e59-9185-41f516a980a9",
   "metadata": {},
   "outputs": [],
   "source": []
  },
  {
   "cell_type": "code",
   "execution_count": null,
   "id": "63fd24e3-eb5c-4c7d-a209-9363060e29a8",
   "metadata": {},
   "outputs": [],
   "source": []
  }
 ],
 "metadata": {
  "kernelspec": {
   "display_name": "Python 3 (ipykernel)",
   "language": "python",
   "name": "python3"
  },
  "language_info": {
   "codemirror_mode": {
    "name": "ipython",
    "version": 3
   },
   "file_extension": ".py",
   "mimetype": "text/x-python",
   "name": "python",
   "nbconvert_exporter": "python",
   "pygments_lexer": "ipython3",
   "version": "3.9.7"
  }
 },
 "nbformat": 4,
 "nbformat_minor": 5
}
