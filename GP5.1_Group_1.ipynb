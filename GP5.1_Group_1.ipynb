{
 "cells": [
  {
   "cell_type": "markdown",
   "id": "2248bbf9-653b-4a62-9746-b7bb0013dad5",
   "metadata": {},
   "source": [
    "<font size=\"10\">**Group 5 Problem 2**<font>"
   ]
  },
  {
   "cell_type": "markdown",
   "id": "d96e6081-4598-4ece-8f3a-a432cfdd4078",
   "metadata": {},
   "source": [
    "**Problem 1**"
   ]
  },
  {
   "cell_type": "code",
   "execution_count": null,
   "id": "9496d2fe-72f2-415f-8785-2c577943fa43",
   "metadata": {},
   "outputs": [],
   "source": []
  },
  {
   "cell_type": "code",
   "execution_count": null,
   "id": "57f3076d-3e99-457a-b9ad-e037f7d8a80b",
   "metadata": {},
   "outputs": [],
   "source": []
  },
  {
   "cell_type": "code",
   "execution_count": null,
   "id": "2fa4dbde-8360-4cea-b30d-1ed2660ee02b",
   "metadata": {},
   "outputs": [],
   "source": []
  },
  {
   "cell_type": "code",
   "execution_count": null,
   "id": "eabfd353-d6af-463c-a25f-7018a2615460",
   "metadata": {},
   "outputs": [],
   "source": []
  },
  {
   "cell_type": "code",
   "execution_count": null,
   "id": "ff01ae21-2e07-44f2-ab83-8d6ab4bfd35b",
   "metadata": {},
   "outputs": [],
   "source": []
  },
  {
   "cell_type": "code",
   "execution_count": null,
   "id": "7bff8ae9-5e05-43fd-ae63-02e3a2e659e7",
   "metadata": {},
   "outputs": [],
   "source": []
  },
  {
   "cell_type": "code",
   "execution_count": null,
   "id": "8cf65010-04b6-479d-a190-ba5169902ad5",
   "metadata": {},
   "outputs": [],
   "source": []
  },
  {
   "cell_type": "code",
   "execution_count": null,
   "id": "2f3fd620-6fc9-42d0-b126-5cf78251f4e2",
   "metadata": {},
   "outputs": [],
   "source": []
  }
 ],
 "metadata": {
  "kernelspec": {
   "display_name": "Python 3 (ipykernel)",
   "language": "python",
   "name": "python3"
  },
  "language_info": {
   "codemirror_mode": {
    "name": "ipython",
    "version": 3
   },
   "file_extension": ".py",
   "mimetype": "text/x-python",
   "name": "python",
   "nbconvert_exporter": "python",
   "pygments_lexer": "ipython3",
   "version": "3.9.7"
  }
 },
 "nbformat": 4,
 "nbformat_minor": 5
}
